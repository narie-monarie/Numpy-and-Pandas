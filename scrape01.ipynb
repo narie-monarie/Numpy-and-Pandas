{
  "nbformat": 4,
  "nbformat_minor": 0,
  "metadata": {
    "colab": {
      "provenance": [],
      "authorship_tag": "ABX9TyNmlamI/b2Lq6781q+Llk57",
      "include_colab_link": true
    },
    "kernelspec": {
      "name": "python3",
      "display_name": "Python 3"
    },
    "language_info": {
      "name": "python"
    }
  },
  "cells": [
    {
      "cell_type": "markdown",
      "metadata": {
        "id": "view-in-github",
        "colab_type": "text"
      },
      "source": [
        "<a href=\"https://colab.research.google.com/github/narie-monarie/numpypandas/blob/main/scrape01.ipynb\" target=\"_parent\"><img src=\"https://colab.research.google.com/assets/colab-badge.svg\" alt=\"Open In Colab\"/></a>"
      ]
    },
    {
      "cell_type": "code",
      "execution_count": null,
      "metadata": {
        "id": "3Y-hzsmdCTSx"
      },
      "outputs": [],
      "source": [
        "from bs4 import BeautifulSoup\n",
        "import requests\n",
        "import pandas as pd"
      ]
    },
    {
      "cell_type": "code",
      "source": [
        "books = []\n",
        "for i in range(1,51):\n",
        "    url = f'https://books.toscrape.com/catalogue/page-{i}.html'\n",
        "    response = requests.get(url)\n",
        "    soup = BeautifulSoup(response.content, 'html.parser')\n",
        "    ol = soup.find('ol')\n",
        "    articles = ol.find_all('article', class_='product_pod')\n",
        "\n",
        "    for a in articles:\n",
        "        image = a.find('img')\n",
        "        title = image.attrs['alt']\n",
        "        star = a.find('p')\n",
        "        star = star['class'][1]\n",
        "        price = a.find('p', class_='price_color').text\n",
        "        price = float(price[1:])\n",
        "        books.append([title, price, star])\n",
        "books"
      ],
      "metadata": {
        "id": "jieicXe-CVqp"
      },
      "execution_count": null,
      "outputs": []
    },
    {
      "cell_type": "code",
      "source": [
        "df = pd.DataFrame(books,columns = ['Title', 'Price', 'Star Rating'])"
      ],
      "metadata": {
        "id": "xmowXItfCqxI"
      },
      "execution_count": null,
      "outputs": []
    },
    {
      "cell_type": "code",
      "source": [
        "df.to_csv('books.csv')"
      ],
      "metadata": {
        "id": "Uw5YY8PqDCIm"
      },
      "execution_count": null,
      "outputs": []
    },
    {
      "cell_type": "code",
      "source": [],
      "metadata": {
        "id": "jxwmfOClDItk"
      },
      "execution_count": null,
      "outputs": []
    }
  ]
}